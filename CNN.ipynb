{
  "cells": [
    {
      "cell_type": "markdown",
      "id": "0e988fdd",
      "metadata": {},
      "source": [
        "[![Open In Colab](https://colab.research.google.com/assets/colab-badge.svg)](https://colab.research.google.com/github/S2Mostafa/CNN/blob/main/CNN.ipynb)"
      ]
    },
    {
      "cell_type": "markdown",
      "id": "FBvFC_RQwaHC",
      "metadata": {
        "id": "FBvFC_RQwaHC"
      },
      "source": [
        "# Convolutional Neural Networks"
      ]
    },
    {
      "cell_type": "code",
      "execution_count": 1,
      "id": "v0m00eyFwaHE",
      "metadata": {
        "id": "v0m00eyFwaHE",
        "pycharm": {
          "name": "#%%\n"
        }
      },
      "outputs": [],
      "source": [
        "import numpy as np\n",
        "from scipy import signal\n",
        "import pandas as pd\n",
        "\n",
        "import tensorflow as tf\n",
        "from tensorflow.keras.utils import to_categorical\n",
        "from tensorflow.keras.layers import Input, Dense, Conv1D, BatchNormalization, MaxPooling1D, Activation, Flatten, Conv2D, MaxPool2D\n",
        "\n",
        "from tensorflow.keras.models import Sequential\n",
        "\n",
        "import matplotlib.pyplot as plt\n",
        "import os\n",
        "import pickle\n",
        "\n",
        "import pydot \n",
        "import graphviz\n",
        "\n",
        "from sklearn.metrics import confusion_matrix"
      ]
    },
    {
      "cell_type": "markdown",
      "id": "T6hgFn1Kc-cu",
      "metadata": {
        "id": "T6hgFn1Kc-cu"
      },
      "source": [
        "# MNIST data loading \n"
      ]
    },
    {
      "cell_type": "code",
      "execution_count": 2,
      "id": "wIfiUTFTwaHF",
      "metadata": {
        "id": "wIfiUTFTwaHF",
        "pycharm": {
          "name": "#%%\n"
        }
      },
      "outputs": [],
      "source": [
        "# loading data\n",
        "#https://en.wikipedia.org/wiki/MNIST_database\n",
        "mnist = tf.keras.datasets.mnist\n",
        "(x_train, y_train),(x_test, y_test) = mnist.load_data()"
      ]
    },
    {
      "cell_type": "code",
      "execution_count": 3,
      "id": "-sGQHSDMwaHF",
      "metadata": {
        "id": "-sGQHSDMwaHF"
      },
      "outputs": [
        {
          "data": {
            "image/png": "[encoded data removed]",
            "text/plain": [
              "<Figure size 432x288 with 9 Axes>"
            ]
          },
          "metadata": {
            "needs_background": "light"
          },
          "output_type": "display_data"
        }
      ],
      "source": [
        "for i in range(9):\n",
        "\t# define subplot\n",
        "\tplt.subplot(330 + 1 + i)\n",
        "\t# plot raw pixel data\n",
        "\tplt.imshow(x_train[i], cmap=plt.get_cmap('gray'))\n",
        "# show the figure\n",
        "plt.show()"
      ]
    },
    {
      "cell_type": "code",
      "execution_count": 4,
      "id": "rJ3U1X3KwaHG",
      "metadata": {
        "id": "rJ3U1X3KwaHG"
      },
      "outputs": [
        {
          "data": {
            "image/png": "[encoded data removed]",
            "text/plain": [
              "<Figure size 432x288 with 1 Axes>"
            ]
          },
          "metadata": {
            "needs_background": "light"
          },
          "output_type": "display_data"
        },
        {
          "name": "stdout",
          "output_type": "stream",
          "text": [
            "5\n"
          ]
        }
      ],
      "source": [
        "# data view\n",
        "#https://matplotlib.org/stable/api/_as_gen/matplotlib.pyplot.imshow.html\n",
        "plt.imshow(x_train[5],cmap=plt.cm.gray)\n",
        "plt.show()\n",
        "print(y_train[0])"
      ]
    },
    {
      "cell_type": "code",
      "execution_count": 5,
      "id": "Qlkna2q9waHH",
      "metadata": {
        "id": "Qlkna2q9waHH"
      },
      "outputs": [
        {
          "data": {
            "text/plain": [
              "(60000, 28, 28)"
            ]
          },
          "execution_count": 5,
          "metadata": {},
          "output_type": "execute_result"
        }
      ],
      "source": [
        "# train data \n",
        "x_train.shape"
      ]
    },
    {
      "cell_type": "code",
      "execution_count": 6,
      "id": "XJ3jUdeIwaHH",
      "metadata": {
        "id": "XJ3jUdeIwaHH"
      },
      "outputs": [
        {
          "data": {
            "text/plain": [
              "(10000, 28, 28)"
            ]
          },
          "execution_count": 6,
          "metadata": {},
          "output_type": "execute_result"
        }
      ],
      "source": [
        "# test data \n",
        "x_test.shape"
      ]
    },
    {
      "cell_type": "markdown",
      "id": "T6O1URsydNPM",
      "metadata": {
        "id": "T6O1URsydNPM"
      },
      "source": [
        "# Convolutional Operation"
      ]
    },
    {
      "cell_type": "code",
      "execution_count": 7,
      "id": "hZpH30PzwaHI",
      "metadata": {
        "id": "hZpH30PzwaHI"
      },
      "outputs": [
        {
          "data": {
            "image/png": "[encoded data removed]",
            "text/plain": [
              "<Figure size 432x288 with 1 Axes>"
            ]
          },
          "metadata": {
            "needs_background": "light"
          },
          "output_type": "display_data"
        },
        {
          "data": {
            "image/png": "[encoded data removed]",
            "text/plain": [
              "<Figure size 432x288 with 1 Axes>"
            ]
          },
          "metadata": {
            "needs_background": "light"
          },
          "output_type": "display_data"
        },
        {
          "data": {
            "image/png": "[encoded data removed]",
            "text/plain": [
              "<Figure size 432x288 with 1 Axes>"
            ]
          },
          "metadata": {
            "needs_background": "light"
          },
          "output_type": "display_data"
        },
        {
          "data": {
            "image/png": "[encoded data removed]",
            "text/plain": [
              "<Figure size 432x288 with 1 Axes>"
            ]
          },
          "metadata": {
            "needs_background": "light"
          },
          "output_type": "display_data"
        }
      ],
      "source": [
        "#https://numpy.org/doc/stable/reference/generated/numpy.convolve.html\n",
        "sig =x_train[5]\n",
        "#sig=np.where(sig>0, 1,sig)\n",
        "plt.imshow(sig,cmap=plt.cm.gray)\n",
        "plt.show()\n",
        "\n",
        "win =np.array([[0., 0., 0.],[0, 1, 0],[0., 0., 0.]])\n",
        "plt.imshow(win,cmap=plt.cm.gray)\n",
        "plt.show()\n",
        "\n",
        "filtered = signal.convolve(sig, win, mode='same')\n",
        "for i in range(0,5):\n",
        "    filtered = signal.convolve(filtered, win, mode='same')\n",
        "filtered=np.where(filtered<0, 0,filtered)\n",
        "plt.imshow(filtered,cmap=plt.cm.gray)\n",
        "plt.show()\n",
        "\n",
        "change=filtered-sig\n",
        "#https://numpy.org/doc/stable/reference/generated/numpy.where.html\n",
        "change=np.where(change<0, 0,change)\n",
        "plt.imshow(change,cmap=plt.cm.binary)\n",
        "plt.show()\n",
        "#change"
      ]
    },
    {
      "cell_type": "code",
      "execution_count": 8,
      "id": "2m0m6ObGwaHI",
      "metadata": {
        "id": "2m0m6ObGwaHI"
      },
      "outputs": [
        {
          "data": {
            "image/png": "[encoded data removed]",
            "text/plain": [
              "<Figure size 432x288 with 1 Axes>"
            ]
          },
          "metadata": {
            "needs_background": "light"
          },
          "output_type": "display_data"
        },
        {
          "data": {
            "image/png": "[encoded data removed]",
            "text/plain": [
              "<Figure size 432x288 with 1 Axes>"
            ]
          },
          "metadata": {
            "needs_background": "light"
          },
          "output_type": "display_data"
        },
        {
          "data": {
            "image/png": "[encoded data removed]",
            "text/plain": [
              "<Figure size 432x288 with 1 Axes>"
            ]
          },
          "metadata": {
            "needs_background": "light"
          },
          "output_type": "display_data"
        },
        {
          "data": {
            "image/png": "[encoded data removed]",
            "text/plain": [
              "<Figure size 432x288 with 1 Axes>"
            ]
          },
          "metadata": {
            "needs_background": "light"
          },
          "output_type": "display_data"
        }
      ],
      "source": [
        "#https://numpy.org/doc/stable/reference/generated/numpy.convolve.html\n",
        "sig =x_train[5]\n",
        "#sig=np.where(sig>0, 1,sig)\n",
        "plt.imshow(sig,cmap=plt.cm.gray)\n",
        "plt.show()\n",
        "\n",
        "win =np.array([[0., 0., 0.],[0, 0, 1],[0., 0., 0.]])\n",
        "plt.imshow(win,cmap=plt.cm.gray)\n",
        "plt.show()\n",
        "\n",
        "filtered = signal.convolve(sig, win, mode='same')\n",
        "for i in range(0,5):\n",
        "     filtered = signal.convolve(filtered, win, mode='same')\n",
        "filtered=np.where(filtered<0, 0,filtered)\n",
        "plt.imshow(filtered,cmap=plt.cm.gray)\n",
        "plt.show()\n",
        "\n",
        "change=filtered-sig\n",
        "#https://numpy.org/doc/stable/reference/generated/numpy.where.html\n",
        "change=np.where(change<0, 0,change)\n",
        "plt.imshow(change,cmap=plt.cm.binary)\n",
        "plt.show()\n",
        "#change"
      ]
    },
    {
      "cell_type": "code",
      "execution_count": 9,
      "id": "RjJKvHIfwaHJ",
      "metadata": {
        "id": "RjJKvHIfwaHJ"
      },
      "outputs": [
        {
          "data": {
            "image/png": "[encoded data removed]",
            "text/plain": [
              "<Figure size 432x288 with 1 Axes>"
            ]
          },
          "metadata": {
            "needs_background": "light"
          },
          "output_type": "display_data"
        },
        {
          "data": {
            "image/png": "[encoded data removed]",
            "text/plain": [
              "<Figure size 432x288 with 1 Axes>"
            ]
          },
          "metadata": {
            "needs_background": "light"
          },
          "output_type": "display_data"
        },
        {
          "data": {
            "image/png": "[encoded data removed]",
            "text/plain": [
              "<Figure size 432x288 with 1 Axes>"
            ]
          },
          "metadata": {
            "needs_background": "light"
          },
          "output_type": "display_data"
        },
        {
          "data": {
            "image/png": "[encoded data removed]",
            "text/plain": [
              "<Figure size 432x288 with 1 Axes>"
            ]
          },
          "metadata": {
            "needs_background": "light"
          },
          "output_type": "display_data"
        }
      ],
      "source": [
        "#https://numpy.org/doc/stable/reference/generated/numpy.convolve.html\n",
        "sig =x_train[5]\n",
        "#sig=np.where(sig>0, 1,sig)\n",
        "plt.imshow(sig,cmap=plt.cm.gray)\n",
        "plt.show()\n",
        "\n",
        "win =np.array([[0., 1., 0.],[0, 0, 0],[0., 0., 0.]])\n",
        "plt.imshow(win,cmap=plt.cm.gray)\n",
        "plt.show()\n",
        "\n",
        "filtered = signal.convolve(sig, win, mode='same')\n",
        "for i in range(0,5):\n",
        "     filtered = signal.convolve(filtered, win, mode='same')\n",
        "filtered=np.where(filtered<0, 0,filtered)\n",
        "plt.imshow(filtered,cmap=plt.cm.gray)\n",
        "plt.show()\n",
        "\n",
        "change=filtered-sig\n",
        "#https://numpy.org/doc/stable/reference/generated/numpy.where.html\n",
        "change=np.where(change<0, 0,change)\n",
        "plt.imshow(change,cmap=plt.cm.binary)\n",
        "plt.show()\n",
        "#change"
      ]
    },
    {
      "cell_type": "code",
      "execution_count": 10,
      "id": "MmjLLOmVwaHJ",
      "metadata": {
        "id": "MmjLLOmVwaHJ"
      },
      "outputs": [
        {
          "data": {
            "image/png": "[encoded data removed]",
            "text/plain": [
              "<Figure size 432x288 with 1 Axes>"
            ]
          },
          "metadata": {
            "needs_background": "light"
          },
          "output_type": "display_data"
        },
        {
          "data": {
            "image/png": "[encoded data removed]",
            "text/plain": [
              "<Figure size 432x288 with 1 Axes>"
            ]
          },
          "metadata": {
            "needs_background": "light"
          },
          "output_type": "display_data"
        },
        {
          "data": {
            "image/png": "[encoded data removed]",
            "text/plain": [
              "<Figure size 432x288 with 1 Axes>"
            ]
          },
          "metadata": {
            "needs_background": "light"
          },
          "output_type": "display_data"
        },
        {
          "data": {
            "image/png": "[encoded data removed]",
            "text/plain": [
              "<Figure size 432x288 with 1 Axes>"
            ]
          },
          "metadata": {
            "needs_background": "light"
          },
          "output_type": "display_data"
        }
      ],
      "source": [
        "#https://numpy.org/doc/stable/reference/generated/numpy.convolve.html\n",
        "sig =x_train[10]\n",
        "#sig=np.where(sig>0, 1,sig)\n",
        "plt.imshow(sig,cmap=plt.cm.gray)\n",
        "plt.show()\n",
        "\n",
        "win =np.array([[-1., -1., -1.],[-1., 8., -1.],[-1., -1., -1.]])\n",
        "plt.imshow(win,cmap=plt.cm.gray)\n",
        "plt.show()\n",
        "\n",
        "filtered = signal.convolve(sig, win, mode='same')\n",
        "# for i in range(0,2):\n",
        "#     filtered = signal.convolve(filtered, win, mode='same')\n",
        "filtered=np.where(filtered<0, 0,filtered)\n",
        "plt.imshow(filtered,cmap=plt.cm.gray)\n",
        "plt.show()\n",
        "\n",
        "change=filtered-sig\n",
        "#https://numpy.org/doc/stable/reference/generated/numpy.where.html\n",
        "change=np.where(change<0, 0,change)\n",
        "plt.imshow(change,cmap=plt.cm.binary)\n",
        "plt.show()\n",
        "#change"
      ]
    },
    {
      "cell_type": "markdown",
      "id": "auvzjXwewaHL",
      "metadata": {
        "id": "auvzjXwewaHL"
      },
      "source": [
        "outputs is Shrinking \n",
        "Loosing information on corners of the image"
      ]
    },
    {
      "cell_type": "markdown",
      "id": "z5UQ_3LuwaHL",
      "metadata": {
        "id": "z5UQ_3LuwaHL"
      },
      "source": [
        "Second method: (((W - K + 2P)/S) + 1)\n",
        "        Here W = Input size\n",
        "        K = Filter size\n",
        "        S = Stride\n",
        "        P = Padding \n",
        "\n",
        "        inpput_size - (filter_size - 1)"
      ]
    },
    {
      "cell_type": "markdown",
      "id": "VzH1032edowP",
      "metadata": {
        "id": "VzH1032edowP"
      },
      "source": [
        "# Data pre-process"
      ]
    },
    {
      "cell_type": "code",
      "execution_count": 11,
      "id": "moONINBowaHL",
      "metadata": {
        "id": "moONINBowaHL"
      },
      "outputs": [],
      "source": [
        "x_train = x_train.astype('float32') / 255.0\n",
        "x_test = x_test.astype('float32') / 255.0"
      ]
    },
    {
      "cell_type": "code",
      "execution_count": 12,
      "id": "0kbO4UHrwaHL",
      "metadata": {
        "id": "0kbO4UHrwaHL"
      },
      "outputs": [],
      "source": [
        "x_train = x_train.reshape(-1, 28, 28, 1)\n",
        "x_test = x_test.reshape(-1, 28, 28, 1)\n",
        "#-1 means that the length in that dimension is inferred."
      ]
    },
    {
      "cell_type": "code",
      "execution_count": 13,
      "id": "7YQstIkuwaHL",
      "metadata": {
        "id": "7YQstIkuwaHL"
      },
      "outputs": [
        {
          "data": {
            "text/plain": [
              "(60000, 28, 28, 1)"
            ]
          },
          "execution_count": 13,
          "metadata": {},
          "output_type": "execute_result"
        }
      ],
      "source": [
        "x_train.shape"
      ]
    },
    {
      "cell_type": "code",
      "execution_count": 14,
      "id": "h4oPrTfgwaHM",
      "metadata": {
        "id": "h4oPrTfgwaHM"
      },
      "outputs": [],
      "source": [
        "y_train_cat = to_categorical(y_train, 10)\n",
        "y_test_cat = to_categorical(y_test, 10)"
      ]
    },
    {
      "cell_type": "code",
      "execution_count": 15,
      "id": "I_JZLQqowaHM",
      "metadata": {
        "id": "I_JZLQqowaHM"
      },
      "outputs": [
        {
          "data": {
            "text/plain": [
              "(60000, 10)"
            ]
          },
          "execution_count": 15,
          "metadata": {},
          "output_type": "execute_result"
        }
      ],
      "source": [
        "y_train_cat.shape"
      ]
    },
    {
      "cell_type": "code",
      "execution_count": 16,
      "id": "r_MkoQvtwaHM",
      "metadata": {
        "id": "r_MkoQvtwaHM"
      },
      "outputs": [
        {
          "data": {
            "text/plain": [
              "10"
            ]
          },
          "execution_count": 16,
          "metadata": {},
          "output_type": "execute_result"
        }
      ],
      "source": [
        "len(np.unique(y_train))"
      ]
    },
    {
      "cell_type": "markdown",
      "id": "hDmPFaMNehL-",
      "metadata": {
        "id": "hDmPFaMNehL-"
      },
      "source": [
        "# Create a Sequential Model"
      ]
    },
    {
      "cell_type": "code",
      "execution_count": 17,
      "id": "1yZAS72twaHN",
      "metadata": {
        "id": "1yZAS72twaHN"
      },
      "outputs": [],
      "source": [
        "model_sq = Sequential()\n",
        "\n",
        "model_sq.add(Conv2D(32, (3, 3), activation='relu', input_shape=(28, 28, 1)))\n",
        "model_sq.add(MaxPool2D(pool_size=(2, 2)))\n",
        "\n",
        "model_sq.add(Conv2D(64, (3, 3), activation='relu'))\n",
        "model_sq.add(MaxPool2D(pool_size=(2, 2)))\n",
        "\n",
        "model_sq.add(Flatten())\n",
        "\n",
        "model_sq.add(Dense(128, activation='relu'))\n",
        "\n",
        "model_sq.add(Dense(10, activation='softmax'))\n",
        "\n",
        "model_sq.compile(loss='categorical_crossentropy',\n",
        "              optimizer='adam',\n",
        "              metrics=['accuracy'])"
      ]
    },
    {
      "cell_type": "markdown",
      "id": "vTsH8I1rwaHN",
      "metadata": {
        "id": "vTsH8I1rwaHN"
      },
      "source": [
        "What we ceated"
      ]
    },
    {
      "cell_type": "code",
      "execution_count": 18,
      "id": "t_noW3hEwaHN",
      "metadata": {
        "id": "t_noW3hEwaHN"
      },
      "outputs": [
        {
          "name": "stdout",
          "output_type": "stream",
          "text": [
            "Model: \"sequential\"\n",
            "_________________________________________________________________\n",
            "Layer (type)                 Output Shape              Param #   \n",
            "=================================================================\n",
            "conv2d (Conv2D)              (None, 26, 26, 32)        320       \n",
            "_________________________________________________________________\n",
            "max_pooling2d (MaxPooling2D) (None, 13, 13, 32)        0         \n",
            "_________________________________________________________________\n",
            "conv2d_1 (Conv2D)            (None, 11, 11, 64)        18496     \n",
            "_________________________________________________________________\n",
            "max_pooling2d_1 (MaxPooling2 (None, 5, 5, 64)          0         \n",
            "_________________________________________________________________\n",
            "flatten (Flatten)            (None, 1600)              0         \n",
            "_________________________________________________________________\n",
            "dense (Dense)                (None, 128)               204928    \n",
            "_________________________________________________________________\n",
            "dense_1 (Dense)              (None, 10)                1290      \n",
            "=================================================================\n",
            "Total params: 225,034\n",
            "Trainable params: 225,034\n",
            "Non-trainable params: 0\n",
            "_________________________________________________________________\n"
          ]
        }
      ],
      "source": [
        "model_sq.summary()"
      ]
    },
    {
      "cell_type": "code",
      "execution_count": 19,
      "id": "zwWvzxc5waHN",
      "metadata": {
        "id": "zwWvzxc5waHN"
      },
      "outputs": [
        {
          "data": {
            "image/png": "[encoded data removed]",
            "text/plain": [
              "<IPython.core.display.Image object>"
            ]
          },
          "execution_count": 19,
          "metadata": {},
          "output_type": "execute_result"
        }
      ],
      "source": [
        "\n",
        "tf.keras.utils.plot_model(model_sq, \"my_first_model.png\")"
      ]
    },
    {
      "cell_type": "code",
      "execution_count": 20,
      "id": "E2ynCvc7waHN",
      "metadata": {
        "id": "E2ynCvc7waHN"
      },
      "outputs": [],
      "source": [
        "#Train the model.model"
      ]
    },
    {
      "cell_type": "code",
      "execution_count": 21,
      "id": "gbbOydQ9waHN",
      "metadata": {
        "id": "gbbOydQ9waHN"
      },
      "outputs": [
        {
          "name": "stdout",
          "output_type": "stream",
          "text": [
            "Epoch 1/5\n",
            "657/657 [==============================] - 22s 34ms/step - loss: 0.1957 - accuracy: 0.9429 - val_loss: 0.0770 - val_accuracy: 0.9768\n",
            "Epoch 2/5\n",
            "657/657 [==============================] - 22s 33ms/step - loss: 0.0547 - accuracy: 0.9832 - val_loss: 0.0593 - val_accuracy: 0.9809\n",
            "Epoch 3/5\n",
            "657/657 [==============================] - 21s 32ms/step - loss: 0.0363 - accuracy: 0.9884 - val_loss: 0.0720 - val_accuracy: 0.9782\n",
            "Epoch 4/5\n",
            "657/657 [==============================] - 16s 25ms/step - loss: 0.0262 - accuracy: 0.9915 - val_loss: 0.0438 - val_accuracy: 0.9869\n",
            "Epoch 5/5\n",
            "657/657 [==============================] - 17s 26ms/step - loss: 0.0210 - accuracy: 0.9930 - val_loss: 0.0472 - val_accuracy: 0.9863\n"
          ]
        }
      ],
      "source": [
        "model_sq_history = model_sq.fit(x_train, y_train_cat, batch_size=64,\n",
        "          epochs=5, verbose=1, validation_split=0.3)"
      ]
    },
    {
      "cell_type": "code",
      "execution_count": 25,
      "id": "ZsTlYxYIwaHO",
      "metadata": {
        "id": "ZsTlYxYIwaHO"
      },
      "outputs": [
        {
          "name": "stdout",
          "output_type": "stream",
          "text": [
            "313/313 [==============================] - 2s 5ms/step - loss: 0.0385 - accuracy: 0.9876\n",
            "0.9876000285148621\n"
          ]
        },
        {
          "data": {
            "image/png": "[encoded data removed]",
            "text/plain": [
              "<Figure size 432x288 with 1 Axes>"
            ]
          },
          "metadata": {
            "needs_background": "light"
          },
          "output_type": "display_data"
        }
      ],
      "source": [
        "plt.plot(model_sq_history.history['accuracy'], label='accuracy')\n",
        "plt.plot(model_sq_history.history['val_accuracy'], label = 'val_accuracy')\n",
        "plt.xlabel('Epoch')\n",
        "plt.ylabel('Accuracy')\n",
        "plt.ylim([0.9, 1])\n",
        "plt.legend(loc='lower right')\n",
        "\n",
        "test_loss, test_acc = model_sq.evaluate(x_test,  y_test_cat)\n",
        "print(test_acc)"
      ]
    },
    {
      "cell_type": "code",
      "execution_count": 26,
      "id": "hULcasuwwaHO",
      "metadata": {
        "id": "hULcasuwwaHO"
      },
      "outputs": [],
      "source": [
        "y_pred = model_sq.predict(x_test)"
      ]
    },
    {
      "cell_type": "code",
      "execution_count": 27,
      "id": "RYEF7DRUwaHO",
      "metadata": {
        "id": "RYEF7DRUwaHO"
      },
      "outputs": [
        {
          "name": "stdout",
          "output_type": "stream",
          "text": [
            "[[2.0451580e-08 3.9069935e-08 4.9342822e-07 ... 9.9999642e-01\n",
            "  5.2124871e-10 5.8621840e-08]\n",
            " [1.0844851e-06 4.7878558e-07 9.9999845e-01 ... 6.2284157e-13\n",
            "  1.1141497e-08 6.6742015e-14]\n",
            " [2.8574587e-07 9.9989510e-01 3.4703414e-06 ... 4.2987314e-05\n",
            "  2.1287358e-06 5.7122179e-07]\n",
            " ...\n",
            " [3.1565477e-15 2.2058345e-10 1.8037171e-11 ... 2.3062866e-10\n",
            "  4.1065356e-09 1.4772915e-09]\n",
            " [9.5564605e-09 1.6460666e-12 3.6374123e-10 ... 8.5485178e-12\n",
            "  1.5134944e-03 3.4755732e-10]\n",
            " [9.6012832e-07 2.4997610e-10 6.0258782e-07 ... 9.9940802e-13\n",
            "  6.2061799e-06 1.8756736e-09]]\n"
          ]
        }
      ],
      "source": [
        "print(y_pred)"
      ]
    },
    {
      "cell_type": "code",
      "execution_count": 28,
      "id": "duw0dyodwaHO",
      "metadata": {
        "id": "duw0dyodwaHO"
      },
      "outputs": [
        {
          "name": "stdout",
          "output_type": "stream",
          "text": [
            "[7 2 1 ... 4 5 6]\n"
          ]
        }
      ],
      "source": [
        "y_pred_number=np.argmax(y_pred,axis=1)\n",
        "print(y_pred_number)"
      ]
    },
    {
      "cell_type": "code",
      "execution_count": 29,
      "id": "KnC_ypmAwaHO",
      "metadata": {
        "id": "KnC_ypmAwaHO"
      },
      "outputs": [],
      "source": [
        "from sklearn.metrics import confusion_matrix\n",
        "cf_matrix = confusion_matrix(np.argmax(y_test_cat,axis=1), np.argmax(y_pred,axis=1))"
      ]
    },
    {
      "cell_type": "code",
      "execution_count": 30,
      "id": "LfVXYF9LwaHP",
      "metadata": {
        "id": "LfVXYF9LwaHP"
      },
      "outputs": [
        {
          "name": "stdout",
          "output_type": "stream",
          "text": [
            "[[ 978    1    0    0    0    0    0    1    0    0]\n",
            " [   0 1129    3    3    0    0    0    0    0    0]\n",
            " [   3    1 1023    2    1    0    0    1    1    0]\n",
            " [   0    1    2 1006    0    0    0    0    1    0]\n",
            " [   0    0    0    0  978    0    2    0    2    0]\n",
            " [   1    0    1   13    0  873    1    1    1    1]\n",
            " [   5    3    2    0    0    6  941    0    1    0]\n",
            " [   1    2   11    3    0    0    0 1011    0    0]\n",
            " [   4    0    1    3    0    1    0    0  964    1]\n",
            " [   7    3    0    6    7    4    0    4    5  973]]\n"
          ]
        }
      ],
      "source": [
        "print(cf_matrix)"
      ]
    }
  ],
  "metadata": {
    "accelerator": "GPU",
    "colab": {
      "collapsed_sections": [],
      "name": "Copy of Worshop_CNN.ipynb",
      "private_outputs": true,
      "provenance": []
    },
    "interpreter": {
      "hash": "ad2bdc8ecc057115af97d19610ffacc2b4e99fae6737bb82f5d7fb13d2f2c186"
    },
    "kernelspec": {
      "display_name": "Python 3.8.8 ('base')",
      "language": "python",
      "name": "python3"
    },
    "language_info": {
      "codemirror_mode": {
        "name": "ipython",
        "version": 3
      },
      "file_extension": ".py",
      "mimetype": "text/x-python",
      "name": "python",
      "nbconvert_exporter": "python",
      "pygments_lexer": "ipython3",
      "version": "3.8.8"
    }
  },
  "nbformat": 4,
  "nbformat_minor": 5
}
